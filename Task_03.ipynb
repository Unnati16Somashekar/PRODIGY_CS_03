{
 "cells": [
  {
   "cell_type": "code",
   "execution_count": 1,
   "id": "11bc7f64-e896-499b-9321-a8a5df006a57",
   "metadata": {},
   "outputs": [],
   "source": [
    "import re"
   ]
  },
  {
   "cell_type": "code",
   "execution_count": 12,
   "id": "8e12a020-cb9c-45a6-a27b-795a532b12d3",
   "metadata": {},
   "outputs": [
    {
     "name": "stdout",
     "output_type": "stream",
     "text": [
      "Password: weakpass\n",
      "Strength: weak\n",
      "Feedback: Your password is weak. Please improve it by adding more characters, uppercase letters, numbers, or special characters.\n",
      "Missing Criteria: uppercase, numbers, special_characters\n",
      "----------------------------------------\n",
      "Password: Strong1!\n",
      "Strength: strong\n",
      "Feedback: Your password is strong!\n",
      "----------------------------------------\n",
      "Password: Moder@te\n",
      "Strength: moderate\n",
      "Feedback: Your password is moderate. Consider adding more complexity!\n",
      "Missing Criteria: numbers\n",
      "----------------------------------------\n",
      "Password: weak\n",
      "Strength: weak\n",
      "Feedback: Your password is weak. Please improve it by adding more characters, uppercase letters, numbers, or special characters.\n",
      "Missing Criteria: length, uppercase, numbers, special_characters\n",
      "----------------------------------------\n",
      "Password: veryStrongPassword!123\n",
      "Strength: strong\n",
      "Feedback: Your password is strong!\n",
      "----------------------------------------\n"
     ]
    }
   ],
   "source": [
    "\n",
    "def assess_password_strength(password):\n",
    "    # Initialize criteria for assessment\n",
    "    criteria = {\n",
    "        \"length\": len(password) >= 8,\n",
    "        \"uppercase\": re.search(r'[A-Z]', password) is not None,\n",
    "        \"lowercase\": re.search(r'[a-z]', password) is not None,\n",
    "        \"numbers\": re.search(r'[0-9]', password) is not None,\n",
    "        \"special_characters\": re.search(r'[\\W_]', password) is not None  # \\W matches any non-alphanumeric character\n",
    "    }\n",
    "    \n",
    "    # Count how many criteria are met\n",
    "    score = sum(criteria.values())\n",
    "    \n",
    "    # Provide feedback\n",
    "    if score == 5:\n",
    "        strength = \"strong\"\n",
    "        feedback = \"Your password is strong!\"\n",
    "    elif score >= 3:\n",
    "        strength = \"moderate\"\n",
    "        feedback = \"Your password is moderate. Consider adding more complexity!\"\n",
    "    else:\n",
    "        strength = \"weak\"\n",
    "        feedback = \"Your password is weak. Please improve it by adding more characters, uppercase letters, numbers, or special characters.\"\n",
    "    \n",
    "    # Display what criteria are missing\n",
    "    missing_criteria = [key for key, met in criteria.items() if not met]\n",
    "    \n",
    "    return {\n",
    "        \"strength\": strength,\n",
    "        \"feedback\": feedback,\n",
    "        \"missing_criteria\": missing_criteria\n",
    "    }\n",
    "\n",
    "# Test the function with different passwords\n",
    "passwords = [\"weakpass\", \"Strong1!\", \"Moder@te\", \"weak\", \"veryStrongPassword!123\"]\n",
    "\n",
    "for pwd in passwords:\n",
    "    result = assess_password_strength(pwd)\n",
    "    print(f\"Password: {pwd}\")\n",
    "    print(f\"Strength: {result['strength']}\")\n",
    "    print(f\"Feedback: {result['feedback']}\")\n",
    "    if result['missing_criteria']:\n",
    "        print(f\"Missing Criteria: {', '.join(result['missing_criteria'])}\")\n",
    "    print(\"-\" * 40)"
   ]
  },
  {
   "cell_type": "code",
   "execution_count": null,
   "id": "6160b089-3a9d-4623-bc2a-397ee0fae18f",
   "metadata": {},
   "outputs": [],
   "source": []
  },
  {
   "cell_type": "code",
   "execution_count": null,
   "id": "894a21f3-f34e-49f7-b863-e42092a9f755",
   "metadata": {},
   "outputs": [],
   "source": []
  }
 ],
 "metadata": {
  "kernelspec": {
   "display_name": "Python 3 (ipykernel)",
   "language": "python",
   "name": "python3"
  },
  "language_info": {
   "codemirror_mode": {
    "name": "ipython",
    "version": 3
   },
   "file_extension": ".py",
   "mimetype": "text/x-python",
   "name": "python",
   "nbconvert_exporter": "python",
   "pygments_lexer": "ipython3",
   "version": "3.11.9"
  }
 },
 "nbformat": 4,
 "nbformat_minor": 5
}
